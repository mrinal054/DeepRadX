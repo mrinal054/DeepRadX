{
 "cells": [
  {
   "cell_type": "code",
   "execution_count": 1,
   "id": "066974bf-644c-4e0a-924d-b4ed0051dde1",
   "metadata": {},
   "outputs": [],
   "source": [
    "\"\"\"\n",
    "Author@ Mrinal Kanti Dhar\n",
    "October 24, 2024\n",
    "\"\"\"\n",
    "\n",
    "import sys\n",
    "sys.path.append(\"/research/m324371/Project/adnexal/utils/\")\n",
    "\n",
    "import torch\n",
    "import torch.nn as nn\n",
    "import torch.nn.functional as F\n",
    "import torchvision.models as models\n",
    "\n",
    "from copy import deepcopy\n",
    "\n",
    "from pscse_cab import PscSEWithCAB\n",
    "from classification_head import ClassificationHead\n",
    "from feature_ensemble_2models import FeatureEnsemble2models\n",
    "\n",
    "from res50pscse_512x28x28 import ResNet50Pscse_512x28x28\n",
    "from enetb2lpscse_384x28x28 import EfficientNetB2LPscse_384x28x28\n",
    "\n",
    "from base_models_collection import base_models"
   ]
  },
  {
   "cell_type": "code",
   "execution_count": 9,
   "id": "4a2879b8-f8a4-46ac-b2db-2b7e58f03393",
   "metadata": {},
   "outputs": [],
   "source": [
    "class EnsembleResNet18Ft512_EfficientNetB2SFt1408(nn.Module):\n",
    "    \"\"\" Ensembles ResNet18 with 512 features and EfficientNetB2 with 1408 features \"\"\"\n",
    "    def __init__(self, \n",
    "                 num_classes: int,\n",
    "                 out_channels: list = None,  # for instance [1024, 512, 256]. Used in classification head\n",
    "                 pretrain: bool = True,\n",
    "                 dropout: float = 0.3,\n",
    "                 in_chs: int = None,\n",
    "                 separate_inputs: int = None):  # separate_inputs defines the number of inputs\n",
    "\n",
    "        self.separate_inputs = separate_inputs\n",
    "\n",
    "        super(EnsembleResNet18Ft512_EfficientNetB2SFt1408, self).__init__()\n",
    "\n",
    "        model1 = base_models('resnet18', pretrain=pretrain, num_classes=num_classes, in_chs=in_chs)\n",
    "        model2 = base_models('efficientnet_v2_s', pretrain=pretrain, num_classes=num_classes, in_chs=in_chs)\n",
    "\n",
    "        self.ens_model1 = FeatureEnsemble2models(model1, model2, trim1=2, trim2=2)  # clip classification head\n",
    "\n",
    "        # Create a list of models for separate inputs if separate_inputs is specified\n",
    "        if self.separate_inputs is not None:\n",
    "            # self.ensemble_models = nn.ModuleList([deepcopy(self.ens_model1) for _ in range(self.separate_inputs)])\n",
    "            self.ensemble_models = [deepcopy(self.ens_model1) for _ in range(self.separate_inputs)]\n",
    "\n",
    "        self.classification = ClassificationHead(num_classes=num_classes,\n",
    "                                                 out_channels=out_channels,\n",
    "                                                 dropout=dropout)\n",
    "\n",
    "    def forward(self, x):\n",
    "\n",
    "        if self.separate_inputs is not None:\n",
    "\n",
    "            # Ensure input data has self.separate_inputs no. of channels\n",
    "            if x.shape[1] < self.separate_inputs:\n",
    "                raise ValueError(f\"Can't split. Input data has {x.shape[1]} channels whereas separate_inputs parameter is {self.separate_inputs}. \\\n",
    "Check the separate_inputs parameter in the config file.\")\n",
    "            \n",
    "            features_list = []\n",
    "\n",
    "            # Loop over each input channel, process it, and store the features\n",
    "            for i in range(self.separate_inputs):\n",
    "                # Separate the i-th input (single channel)\n",
    "                xi = x[:, i:i + 1, :, :]  # extract ith channel\n",
    "\n",
    "                # Convert to 3 channels by repeating or concatenating along the channel dimension\n",
    "                xi_3ch = torch.cat([xi, xi, xi], dim=1)\n",
    "\n",
    "                # Get features from the i-th ensemble model\n",
    "                features_i = self.ensemble_models[i](xi_3ch)\n",
    "\n",
    "                # Collect features\n",
    "                features_list.append(features_i)\n",
    "\n",
    "            # Concatenate features along the channel dimension\n",
    "            features = torch.cat(features_list, dim=1)\n",
    "\n",
    "        else:\n",
    "            features = self.ens_model1(x)\n",
    "\n",
    "        # # Pass the features through the classification head\n",
    "        # out = self.classification(features)\n",
    "\n",
    "        return features\n"
   ]
  },
  {
   "cell_type": "code",
   "execution_count": 10,
   "id": "544acc1f-c92b-413f-9cc4-c0d0c92f86e9",
   "metadata": {},
   "outputs": [
    {
     "name": "stdout",
     "output_type": "stream",
     "text": [
      "**************************************** torch.Size([1, 3, 224, 224])\n",
      "**************************************** torch.Size([1, 3, 224, 224])\n",
      "**************************************** torch.Size([1, 3, 224, 224])\n",
      "torch.Size([1, 5376, 7, 7])\n"
     ]
    }
   ],
   "source": [
    "\n",
    "inp=torch.rand(1, 3, 224, 224)\n",
    "num_classes=2\n",
    "out_channels=[5376, 512, 256]\n",
    "pretrain = True\n",
    "dropout=0.3\n",
    "separate_inputs = 3\n",
    "in_channels = 3\n",
    "\n",
    "model = EnsembleResNet18Ft512_EfficientNetB2SFt1408(num_classes, out_channels, pretrain, dropout, in_channels, separate_inputs)\n",
    "\n",
    "out = model(inp)\n",
    "\n",
    "print(out.shape)"
   ]
  },
  {
   "cell_type": "code",
   "execution_count": 11,
   "id": "e2a74e39-c6ba-4790-89df-107de1fa0e48",
   "metadata": {},
   "outputs": [
    {
     "name": "stdout",
     "output_type": "stream",
     "text": [
      "**************************************** torch.Size([1, 3, 224, 224])\n"
     ]
    }
   ],
   "source": [
    "inp=torch.rand(1, 3, 224, 224)\n",
    "num_classes=2\n",
    "out_channels=[5376, 512, 256]\n",
    "pretrain = True\n",
    "dropout=0.3\n",
    "separate_inputs = 3\n",
    "in_channels = 3\n",
    "\n",
    "model = EnsembleResNet18Ft512_EfficientNetB2SFt1408(num_classes, out_channels, pretrain, dropout, in_channels, separate_inputs)\n",
    "\n",
    "modules = []\n",
    "for layer in model.children():\n",
    "    if isinstance(layer, nn.ModuleList):\n",
    "        modules.extend(layer)  # Flatten out ModuleList layers\n",
    "    else:\n",
    "        modules.append(layer)\n",
    "dl_feature_extractor = nn.Sequential(*modules[:-1])  # Exclude the classification head\n",
    "\n",
    "out2 = dl_feature_extractor(inp)"
   ]
  },
  {
   "cell_type": "code",
   "execution_count": null,
   "id": "cb26d7a9-10d4-40bb-aff6-80a6717f3e35",
   "metadata": {},
   "outputs": [],
   "source": [
    "# dl_feature_extractor"
   ]
  },
  {
   "cell_type": "code",
   "execution_count": null,
   "id": "3768700c-8bbc-43a2-a67f-91f9971fe9c0",
   "metadata": {},
   "outputs": [],
   "source": [
    "# out2 = dl_feature_extractor(inp)"
   ]
  },
  {
   "cell_type": "code",
   "execution_count": 14,
   "id": "c97b4c02-553d-4676-8fad-c12ddd35ed80",
   "metadata": {},
   "outputs": [
    {
     "ename": "AttributeError",
     "evalue": "'Sequential' object has no attribute 'ensemble_models'",
     "output_type": "error",
     "traceback": [
      "\u001b[0;31m---------------------------------------------------------------------------\u001b[0m",
      "\u001b[0;31mAttributeError\u001b[0m                            Traceback (most recent call last)",
      "Cell \u001b[0;32mIn[14], line 6\u001b[0m\n\u001b[1;32m      4\u001b[0m     xi \u001b[38;5;241m=\u001b[39m inp[:, i:i \u001b[38;5;241m+\u001b[39m \u001b[38;5;241m1\u001b[39m, :, :]\n\u001b[1;32m      5\u001b[0m     xi_3ch \u001b[38;5;241m=\u001b[39m torch\u001b[38;5;241m.\u001b[39mcat([xi, xi, xi], dim\u001b[38;5;241m=\u001b[39m\u001b[38;5;241m1\u001b[39m)\n\u001b[0;32m----> 6\u001b[0m     features_i \u001b[38;5;241m=\u001b[39m \u001b[43mdl_feature_extractor\u001b[49m\u001b[38;5;241;43m.\u001b[39;49m\u001b[43mensemble_models\u001b[49m[i](xi_3ch)  \u001b[38;5;66;03m# Process each separately\u001b[39;00m\n\u001b[1;32m      7\u001b[0m     features_list\u001b[38;5;241m.\u001b[39mappend(features_i)\n\u001b[1;32m      9\u001b[0m combined_features \u001b[38;5;241m=\u001b[39m torch\u001b[38;5;241m.\u001b[39mcat(features_list, dim\u001b[38;5;241m=\u001b[39m\u001b[38;5;241m1\u001b[39m)  \u001b[38;5;66;03m# Concatenate features as needed\u001b[39;00m\n",
      "File \u001b[0;32m/research/m324371/PyEnv/adnexal/lib64/python3.12/site-packages/torch/nn/modules/module.py:1729\u001b[0m, in \u001b[0;36mModule.__getattr__\u001b[0;34m(self, name)\u001b[0m\n\u001b[1;32m   1727\u001b[0m     \u001b[38;5;28;01mif\u001b[39;00m name \u001b[38;5;129;01min\u001b[39;00m modules:\n\u001b[1;32m   1728\u001b[0m         \u001b[38;5;28;01mreturn\u001b[39;00m modules[name]\n\u001b[0;32m-> 1729\u001b[0m \u001b[38;5;28;01mraise\u001b[39;00m \u001b[38;5;167;01mAttributeError\u001b[39;00m(\u001b[38;5;124mf\u001b[39m\u001b[38;5;124m\"\u001b[39m\u001b[38;5;124m'\u001b[39m\u001b[38;5;132;01m{\u001b[39;00m\u001b[38;5;28mtype\u001b[39m(\u001b[38;5;28mself\u001b[39m)\u001b[38;5;241m.\u001b[39m\u001b[38;5;18m__name__\u001b[39m\u001b[38;5;132;01m}\u001b[39;00m\u001b[38;5;124m'\u001b[39m\u001b[38;5;124m object has no attribute \u001b[39m\u001b[38;5;124m'\u001b[39m\u001b[38;5;132;01m{\u001b[39;00mname\u001b[38;5;132;01m}\u001b[39;00m\u001b[38;5;124m'\u001b[39m\u001b[38;5;124m\"\u001b[39m)\n",
      "\u001b[0;31mAttributeError\u001b[0m: 'Sequential' object has no attribute 'ensemble_models'"
     ]
    }
   ],
   "source": [
    "features_list = []\n",
    "for i in range(separate_inputs):\n",
    "    # Assuming inputs are separated by channel here\n",
    "    xi = inp[:, i:i + 1, :, :]\n",
    "    xi_3ch = torch.cat([xi, xi, xi], dim=1)\n",
    "    features_i = dl_feature_extractor.ensemble_models[i](xi_3ch)  # Process each separately\n",
    "    features_list.append(features_i)\n",
    "\n",
    "combined_features = torch.cat(features_list, dim=1)  # Concatenate features as needed"
   ]
  },
  {
   "cell_type": "code",
   "execution_count": 13,
   "id": "e94cf482-b6b9-4738-b4e2-4948fe14a9f2",
   "metadata": {},
   "outputs": [
    {
     "data": {
      "text/plain": [
       "torch.Size([1, 5376, 7, 7])"
      ]
     },
     "execution_count": 13,
     "metadata": {},
     "output_type": "execute_result"
    }
   ],
   "source": [
    "combined_features.shape"
   ]
  },
  {
   "cell_type": "code",
   "execution_count": null,
   "id": "de276187-3177-4639-a36a-83d383473951",
   "metadata": {},
   "outputs": [],
   "source": []
  }
 ],
 "metadata": {
  "kernelspec": {
   "display_name": "Python 3 (ipykernel)",
   "language": "python",
   "name": "python3"
  },
  "language_info": {
   "codemirror_mode": {
    "name": "ipython",
    "version": 3
   },
   "file_extension": ".py",
   "mimetype": "text/x-python",
   "name": "python",
   "nbconvert_exporter": "python",
   "pygments_lexer": "ipython3",
   "version": "3.12.3"
  }
 },
 "nbformat": 4,
 "nbformat_minor": 5
}
