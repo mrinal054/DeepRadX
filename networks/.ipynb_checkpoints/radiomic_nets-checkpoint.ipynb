{
 "cells": [
  {
   "cell_type": "code",
   "execution_count": 1,
   "id": "4b9fde23-8774-4796-b120-819d5007e3a6",
   "metadata": {},
   "outputs": [
    {
     "name": "stdout",
     "output_type": "stream",
     "text": [
      "torch.Size([40, 100])\n"
     ]
    }
   ],
   "source": [
    "# Append utils\n",
    "import sys\n",
    "sys.path.append(\"/research/m324371/Project/adnexal/utils/\")\n",
    "\n",
    "import torch\n",
    "import torch.nn as nn\n",
    "from activations import activation_function\n",
    "\n",
    "\n",
    "# Define the MLP for radiomic features\n",
    "class RadiomicMLP(nn.Module):\n",
    "    def __init__(self, radiomic_dims:list, activation:str='leakyrelu', attention=None, dropout:float=None):\n",
    "        \"\"\"\n",
    "        Args:\n",
    "        - radiomic_dims: A list in the format: [in_dim, hidden_dim, out_dim] (e.g. [100, 64, 128])\n",
    "        - activation: Activation function\n",
    "        - Attention module\n",
    "        - dropout\n",
    "\n",
    "        Return:\n",
    "        - An MLP network\n",
    "        \"\"\"\n",
    "        super(RadiomicMLP, self).__init__()\n",
    "\n",
    "        self.radiomic_dims = radiomic_dims\n",
    "        \n",
    "        layers = []\n",
    "        \n",
    "        # Create fully connected layers based on radiomic_dims\n",
    "        if self.radiomic_dims is not None:\n",
    "            for i in range(len(self.radiomic_dims) - 1):\n",
    "                layers.append(nn.Linear(self.radiomic_dims[i], self.radiomic_dims[i + 1]))\n",
    "                if attention is not None: layers.append(attention(feature_dim=self.radiomic_dims[i + 1]))\n",
    "                layers.append(activation_function(activation))\n",
    "                # if dropout is not None: layers.append(nn.Dropout(dropout))\n",
    "                if dropout is not None and i < len(self.radiomic_dims) - 2: layers.append(nn.Dropout(dropout)) # Only add dropout to hidden layers, not the output layer.\n",
    "            \n",
    "            self.fc = nn.Sequential(*layers)\n",
    "    \n",
    "    def forward(self, x):\n",
    "        batch_size, num_features, feature_length = x.shape\n",
    "        x = x.view(batch_size * num_features, feature_length) # Shape: (batch_size * num_features, mlp_output_dim)\n",
    "        if self.radiomic_dims is not None:\n",
    "            x = self.fc(x)\n",
    "\n",
    "        return x\n",
    "\n",
    "        \n",
    "if __name__ == \"__main__\":\n",
    "\n",
    "    from attention import BasicAttention\n",
    "    \n",
    "    # Test the model\n",
    "    radiomic_input = torch.randn(4, 10, 100)\n",
    "    \n",
    "    radiomic_dims = None # [100, 64, 128, 256, 512]\n",
    "    activation = 'leakyrelu'\n",
    "    dropout = 0.2\n",
    "\n",
    "    attention = BasicAttention # define the attention module to be used\n",
    "        \n",
    "    model = RadiomicMLP(radiomic_dims, activation, attention, dropout)  # Create the model \n",
    "    \n",
    "    out = model(radiomic_input)  # Forward pass\n",
    "    print(out.shape)  # torch.Size([40, 512])\n",
    "\n"
   ]
  },
  {
   "cell_type": "code",
   "execution_count": null,
   "id": "1d4daa4c-fa14-4dfa-afcf-26647dcd2cb4",
   "metadata": {},
   "outputs": [],
   "source": []
  }
 ],
 "metadata": {
  "kernelspec": {
   "display_name": "Python 3 (ipykernel)",
   "language": "python",
   "name": "python3"
  },
  "language_info": {
   "codemirror_mode": {
    "name": "ipython",
    "version": 3
   },
   "file_extension": ".py",
   "mimetype": "text/x-python",
   "name": "python",
   "nbconvert_exporter": "python",
   "pygments_lexer": "ipython3",
   "version": "3.12.3"
  }
 },
 "nbformat": 4,
 "nbformat_minor": 5
}
