{
 "cells": [
  {
   "cell_type": "code",
   "execution_count": 2,
   "id": "f106daed-1c9a-4acb-a13a-cdac7dfff32e",
   "metadata": {},
   "outputs": [],
   "source": [
    "import sys\n",
    "sys.path.append(\"/research/m324371/Project/adnexal/networks/\")\n",
    "\n",
    "import torch\n",
    "import torch.nn as nn\n",
    "import torch.nn.functional as F"
   ]
  },
  {
   "cell_type": "code",
   "execution_count": 3,
   "id": "317e7f01-b4bf-40b6-83a5-ff1fedc7fdc2",
   "metadata": {},
   "outputs": [],
   "source": [
    "class FeatureEnsemble2models(nn.Module):\n",
    "    def __init__(self, model1, model2, clip1:int, clip2:int):\n",
    "        super(FeatureEnsemble2models, self).__init__()\n",
    "\n",
    "        self.clipped_model1 = nn.Sequential(*list(model1.children()))[:-clip1] # clip first model\n",
    "        self.clipped_model2 = nn.Sequential(*list(model2.children()))[:-clip2] # clip second model\n",
    "\n",
    "    def forward(self, x):\n",
    "        features1 = self.clipped_model1(x)\n",
    "        features2 = self.clipped_model2(x)\n",
    "\n",
    "        # Ensure both feature maps have the same spatial dimensions\n",
    "        if features1.shape[2:] != features2.shape[2:]:\n",
    "            # Resize feature2's output to match feature1's spatial dimensions\n",
    "            features2 = F.interpolate(features2, size=features1.shape[2:], mode='bilinear', align_corners=False)\n",
    "\n",
    "        # Concatenate the feature maps along the channel dimension\n",
    "        combined_features = torch.cat((features1, features2), dim=1) \n",
    "        \n",
    "        return combined_features"
   ]
  },
  {
   "cell_type": "code",
   "execution_count": 5,
   "id": "5a9dd891-78fc-41e5-8a77-7cc49c009ccf",
   "metadata": {},
   "outputs": [
    {
     "name": "stdout",
     "output_type": "stream",
     "text": [
      "torch.Size([1, 2048, 7, 7])\n"
     ]
    }
   ],
   "source": [
    "if __name__ == \"__main__\":\n",
    "    from res50pscse_512x28x28 import ResNet50Pscse_512x28x28\n",
    "    from enetb2lpscse_384x28x28 import EfficientNetB2LPscse_384x28x28\n",
    "\n",
    "    inp=torch.rand(1, 3, 224, 224)\n",
    "    num_classes=2\n",
    "    out_channels=[1024, 512, 256]\n",
    "    pretrain=True\n",
    "    dropout=0.3\n",
    "    activation='leakyrelu'\n",
    "    reduction=16\n",
    "    \n",
    "    model1 = ResNet50Pscse_512x28x28(num_classes, out_channels, pretrain, dropout, activation, reduction) \n",
    "    model2 = EfficientNetB2LPscse_384x28x28(num_classes, out_channels, pretrain, dropout, activation, reduction)\n",
    "    \n",
    "    feature_ensembled_model = FeatureEnsemble2models(model1, model2, clip1=1, clip2=1) # clip classification head\n",
    "    out = feature_ensembled_model(inp)\n",
    "    \n",
    "    print(out.shape) # torch.Size([1, 2048, 7, 7])"
   ]
  },
  {
   "cell_type": "code",
   "execution_count": null,
   "id": "9b1ce1d9-6080-4cec-8411-f23297cd60f9",
   "metadata": {},
   "outputs": [],
   "source": []
  }
 ],
 "metadata": {
  "kernelspec": {
   "display_name": "Python 3 (ipykernel)",
   "language": "python",
   "name": "python3"
  },
  "language_info": {
   "codemirror_mode": {
    "name": "ipython",
    "version": 3
   },
   "file_extension": ".py",
   "mimetype": "text/x-python",
   "name": "python",
   "nbconvert_exporter": "python",
   "pygments_lexer": "ipython3",
   "version": "3.12.3"
  }
 },
 "nbformat": 4,
 "nbformat_minor": 5
}
